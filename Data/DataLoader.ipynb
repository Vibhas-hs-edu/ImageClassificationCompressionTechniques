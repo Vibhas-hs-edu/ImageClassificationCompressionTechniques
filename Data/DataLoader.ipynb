{
 "cells": [
  {
   "cell_type": "code",
   "execution_count": 56,
   "id": "411885f3",
   "metadata": {},
   "outputs": [],
   "source": [
    "import sys\n",
    "sys.path.append(\"/opt/homebrew/Caskroom/miniforge/base/lib/python3.9/site-packages\")"
   ]
  },
  {
   "cell_type": "code",
   "execution_count": 57,
   "id": "c4a1fe71",
   "metadata": {},
   "outputs": [],
   "source": [
    "import pandas as pd\n",
    "import data_constants\n",
    "import os\n",
    "import tensorflow as tf\n",
    "import numpy as np"
   ]
  },
  {
   "cell_type": "code",
   "execution_count": 79,
   "id": "0120ec9b",
   "metadata": {},
   "outputs": [],
   "source": [
    "data_folder = data_constants.DATA_FOLDER\n",
    "images_folder = os.path.join(data_folder, '2A_images')\n",
    "train_file = os.path.join(data_folder, 'train_COVIDx_CT-2A.txt')\n",
    "test_file = os.path.join(data_folder, 'test_COVIDx_CT-2A.txt')\n",
    "val_file = os.path.join(data_folder, 'val_COVIDx_CT-2A.txt')"
   ]
  },
  {
   "cell_type": "code",
   "execution_count": 72,
   "id": "73c525d2",
   "metadata": {},
   "outputs": [],
   "source": [
    "assert os.path.exists(data_folder), 'Data folder must be downloaded first'\n",
    "assert os.path.exists(images_folder), 'Images was not downloaded properly'\n",
    "\n",
    "assert os.path.exists(train_file)\n",
    "assert os.path.exists(test_file)\n",
    "assert os.path.exists(val_file)"
   ]
  },
  {
   "cell_type": "code",
   "execution_count": 80,
   "id": "6c4c10bb",
   "metadata": {},
   "outputs": [],
   "source": [
    "col_names = [\"filename\", \"class\", \"xmin\", \"ymin\", \"xmax\", \"ymax\"]\n",
    "train_ds = pd.read_csv(train_file, sep = ' ', names = col_names)\n",
    "test_ds = pd.read_csv(test_file, sep = ' ', names = col_names)\n",
    "val_ds = pd.read_csv(val_file, sep = ' ', names = col_names)\n",
    "\n",
    "train_ds['filename'] =  train_ds['filename'].apply(lambda x: os.path.join(images_folder, x))\n",
    "val_ds['filename'] =  val_ds['filename'].apply(lambda x: os.path.join(images_folder, x))\n",
    "test_ds['filename'] =  test_ds['filename'].apply(lambda x: os.path.join(images_folder, x))"
   ]
  },
  {
   "cell_type": "code",
   "execution_count": 81,
   "id": "d378bc20",
   "metadata": {},
   "outputs": [],
   "source": [
    "class DataGenerator(tf.keras.utils.Sequence):\n",
    "    def __init__(self, df, X_col, y_col,\n",
    "                 batch_size,\n",
    "                 input_size=(512, 512, 3),\n",
    "                 shuffle=True):\n",
    "        \"\"\"\n",
    "        df : Dataset dataframe\n",
    "        X_col : a dictionary which has a mapping of key with actual column names\n",
    "              : Currently the key and value of the dictionary are same as the dataframe columns\n",
    "        y_col : Similar to X_columns. Contains a mapping to columns in dataframe for the prediction features\n",
    "        input_size : Shape of the image\n",
    "        \"\"\"\n",
    "        self.df = df.copy()\n",
    "        self.X_col = X_col\n",
    "        self.y_col = y_col\n",
    "        self.batch_size = batch_size\n",
    "        self.input_size = input_size\n",
    "        self.shuffle = shuffle\n",
    "        self.n = len(self.df)\n",
    "    \n",
    "    def __len__(self):\n",
    "        return int(self.n / self.batch_size)\n",
    "    \n",
    "    def __get_input(self, path):\n",
    "        \"\"\"\n",
    "        A helper function which returns the image array from image path\n",
    "        \"\"\"\n",
    "        image = tf.keras.preprocessing.image.load_img(path)\n",
    "        image_arr = tf.keras.preprocessing.image.img_to_array(image)\n",
    "        return image_arr/255\n",
    "    \n",
    "    def __get_output(self, label, num_classes):\n",
    "        \"\"\"\n",
    "        A helper function which converts numerical class labels to one hot encoded vectors\n",
    "        \"\"\"\n",
    "        return tf.keras.utils.to_categorical(label, num_classes=num_classes)\n",
    "    \n",
    "    \n",
    "    def __get_data(self, batches):\n",
    "        \"\"\"\n",
    "        A helper function which returns the following a tuple of X and y\n",
    "        X - > Image array of shape (Batch_size, H, W)\n",
    "        y -> A tuple of class label and a list of bounding box coordinates\n",
    "        \"\"\"\n",
    "        path_batch = batches[self.X_col['path']]\n",
    "        class_batch = batches[self.y_col['class']]\n",
    "        bb_batch = batches[[self.y_col['xmin'], self.y_col['ymin'], self.y_col['xmax'], self.y_col['ymax']]]\n",
    "\n",
    "        X_batch = np.asarray([self.__get_input(x_path) for x_path in path_batch])\n",
    "        return X_batch, (class_batch, bb_batch)\n",
    "    \n",
    "    def __getitem__(self, index):\n",
    "        \"\"\"\n",
    "        Returns a batch of X and y data\n",
    "        X - > Image array of shape (Batch_size, H, W)\n",
    "        y -> A tuple of class label and a list of bounding box coordinates\n",
    "        \"\"\"\n",
    "        batches = self.df[index * self.batch_size:(index + 1) * self.batch_size]\n",
    "        X, y = self.__get_data(batches)        \n",
    "        return X, y"
   ]
  },
  {
   "cell_type": "code",
   "execution_count": 82,
   "id": "69d2222b",
   "metadata": {},
   "outputs": [],
   "source": [
    "batch_size = 64\n",
    "x_map = {'path':'filename'}\n",
    "y_map = {'class': 'class', 'xmin': 'xmin', 'ymin' : 'ymin', 'xmax' : 'xmax', 'ymax' : 'ymax'}\n",
    "train_gen = DataGenerator(train_ds,\n",
    "                         X_col = x_map,\n",
    "                         y_col=y_map,\n",
    "                         batch_size=batch_size)\n",
    "\n",
    "val_gen = DataGenerator(train_ds,\n",
    "                         X_col = x_map,\n",
    "                         y_col = y_map,\n",
    "                         batch_size=batch_size)\n",
    "\n",
    "test_gen = DataGenerator(train_ds,\n",
    "                         X_col = x_map,\n",
    "                         y_col = y_map,\n",
    "                         batch_size=batch_size)"
   ]
  },
  {
   "cell_type": "markdown",
   "id": "23cc61e5",
   "metadata": {},
   "source": [
    "Usage of the train data generator"
   ]
  },
  {
   "cell_type": "code",
   "execution_count": 83,
   "id": "6d543cd4",
   "metadata": {},
   "outputs": [
    {
     "name": "stdout",
     "output_type": "stream",
     "text": [
      "Image shape (64, 512, 512, 3)\n",
      "Label shape (64,)\n",
      "Bounding box shape (64, 4)\n"
     ]
    }
   ],
   "source": [
    "for t in train_gen:\n",
    "    X, y = t\n",
    "    y_class, y_bbox = y\n",
    "    print('Image shape', X.shape)\n",
    "    print('Label shape', y_class.shape)\n",
    "    print('Bounding box shape', y_bbox.shape)\n",
    "    break"
   ]
  },
  {
   "cell_type": "code",
   "execution_count": 84,
   "id": "4be2ca35",
   "metadata": {},
   "outputs": [
    {
     "name": "stdout",
     "output_type": "stream",
     "text": [
      "Image shape (64, 512, 512, 3)\n",
      "Label shape (64,)\n",
      "Bounding box shape (64, 4)\n"
     ]
    }
   ],
   "source": [
    "for t in val_gen:\n",
    "    X, y = t\n",
    "    y_class, y_bbox = y\n",
    "    print('Image shape', X.shape)\n",
    "    print('Label shape', y_class.shape)\n",
    "    print('Bounding box shape', y_bbox.shape)\n",
    "    break"
   ]
  },
  {
   "cell_type": "code",
   "execution_count": null,
   "id": "022462f0",
   "metadata": {},
   "outputs": [],
   "source": []
  }
 ],
 "metadata": {
  "kernelspec": {
   "display_name": "tf1",
   "language": "python",
   "name": "tf1"
  },
  "language_info": {
   "codemirror_mode": {
    "name": "ipython",
    "version": 3
   },
   "file_extension": ".py",
   "mimetype": "text/x-python",
   "name": "python",
   "nbconvert_exporter": "python",
   "pygments_lexer": "ipython3",
   "version": "3.8.12"
  }
 },
 "nbformat": 4,
 "nbformat_minor": 5
}
